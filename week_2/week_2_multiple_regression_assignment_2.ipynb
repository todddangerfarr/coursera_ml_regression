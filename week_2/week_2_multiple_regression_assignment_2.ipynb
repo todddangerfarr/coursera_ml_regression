{
 "cells": [
  {
   "cell_type": "markdown",
   "metadata": {},
   "source": [
    "# Regression Week 2: Multiple Regression (gradient descent)"
   ]
  },
  {
   "cell_type": "markdown",
   "metadata": {},
   "source": [
    "In the first notebook we explored multiple regression using graphlab create. Now we will use graphlab along with numpy to solve for the regression weights with gradient descent.\n",
    "\n",
    "In this notebook we will cover estimating multiple regression weights via gradient descent. You will:\n",
    "* Add a constant column of 1's to a graphlab SFrame to account for the intercept\n",
    "* Convert an SFrame into a Numpy array\n",
    "* Write a predict_output() function using Numpy\n",
    "* Write a numpy function to compute the derivative of the regression weights with respect to a single feature\n",
    "* Write gradient descent function to compute the regression weights given an initial weight vector, step size and tolerance.\n",
    "* Use the gradient descent function to estimate regression weights for multiple features"
   ]
  },
  {
   "cell_type": "markdown",
   "metadata": {},
   "source": [
    "# Fire up graphlab create"
   ]
  },
  {
   "cell_type": "markdown",
   "metadata": {},
   "source": [
    "Make sure you have the latest version of graphlab (>= 1.7)"
   ]
  },
  {
   "cell_type": "code",
   "execution_count": 1,
   "metadata": {
    "collapsed": false
   },
   "outputs": [],
   "source": [
    "import graphlab"
   ]
  },
  {
   "cell_type": "markdown",
   "metadata": {},
   "source": [
    "# Load in house sales data\n",
    "\n",
    "Dataset is from house sales in King County, the region where the city of Seattle, WA is located."
   ]
  },
  {
   "cell_type": "code",
   "execution_count": 2,
   "metadata": {
    "collapsed": false
   },
   "outputs": [
    {
     "name": "stdout",
     "output_type": "stream",
     "text": [
      "This non-commercial license of GraphLab Create is assigned to todd.farr@gmail.com and will expire on March 15, 2017. For commercial licensing options, visit https://dato.com/buy/.\n"
     ]
    },
    {
     "name": "stderr",
     "output_type": "stream",
     "text": [
      "2016-04-18 08:43:15,413 [INFO] graphlab.cython.cy_server, 176: GraphLab Create v1.8.4 started. Logging: C:\\Users\\TFARR3\\AppData\\Local\\Temp\\graphlab_server_1460936590.log.0\n"
     ]
    }
   ],
   "source": [
    "sales = graphlab.SFrame('kc_house_data.gl/')"
   ]
  },
  {
   "cell_type": "markdown",
   "metadata": {},
   "source": [
    "If we want to do any \"feature engineering\" like creating new features or adjusting existing ones we should do this directly using the SFrames as seen in the other Week 2 notebook. For this notebook, however, we will work with the existing features."
   ]
  },
  {
   "cell_type": "markdown",
   "metadata": {},
   "source": [
    "# Convert to Numpy Array"
   ]
  },
  {
   "cell_type": "markdown",
   "metadata": {},
   "source": [
    "Although SFrames offer a number of benefits to users (especially when using Big Data and built-in graphlab functions) in order to understand the details of the implementation of algorithms it's important to work with a library that allows for direct (and optimized) matrix operations. Numpy is a Python solution to work with matrices (or any multi-dimensional \"array\").\n",
    "\n",
    "Recall that the predicted value given the weights and the features is just the dot product between the feature and weight vector. Similarly, if we put all of the features row-by-row in a matrix then the predicted value for *all* the observations can be computed by right multiplying the \"feature matrix\" by the \"weight vector\". \n",
    "\n",
    "First we need to take the SFrame of our data and convert it into a 2D numpy array (also called a matrix). To do this we use graphlab's built in .to_dataframe() which converts the SFrame into a Pandas (another python library) dataframe. We can then use Panda's .as_matrix() to convert the dataframe into a numpy matrix."
   ]
  },
  {
   "cell_type": "code",
   "execution_count": 3,
   "metadata": {
    "collapsed": true
   },
   "outputs": [],
   "source": [
    "import numpy as np # note this allows us to refer to numpy as np instead "
   ]
  },
  {
   "cell_type": "markdown",
   "metadata": {},
   "source": [
    "Now we will write a function that will accept an SFrame, a list of feature names (e.g. ['sqft_living', 'bedrooms']) and an target feature e.g. ('price') and will return two things:\n",
    "* A numpy matrix whose columns are the desired features plus a constant column (this is how we create an 'intercept')\n",
    "* A numpy array containing the values of the output\n",
    "\n",
    "With this in mind, complete the following function (where there's an empty line you should write a line of code that does what the comment above indicates)\n",
    "\n",
    "**Please note you will need GraphLab Create version at least 1.7.1 in order for .to_numpy() to work!**"
   ]
  },
  {
   "cell_type": "code",
   "execution_count": 10,
   "metadata": {
    "collapsed": false
   },
   "outputs": [],
   "source": [
    "def get_numpy_data(data_sframe, features, output):\n",
    "    data_sframe['constant'] = 1 # this is how you add a constant column to an SFrame\n",
    "    # add the column 'constant' to the front of the features list so that we can extract it along with the others:\n",
    "    features = ['constant'] + features # this is how you combine two lists\n",
    "    \n",
    "    # select the columns of data_SFrame given by the features list into the SFrame features_sframe (now including constant):\n",
    "    features_sframe = data_sframe[features]\n",
    "    \n",
    "    # the following line will convert the features_SFrame into a numpy matrix:\n",
    "    feature_matrix = features_sframe.to_numpy()\n",
    "    \n",
    "    # assign the column of data_sframe associated with the output to the SArray output_sarray\n",
    "    output_sarray = data_sframe[output]\n",
    "    \n",
    "    # the following will convert the SArray into a numpy array by first converting it to a list\n",
    "    output_array = output_sarray.to_numpy()\n",
    "    return(feature_matrix, output_array)"
   ]
  },
  {
   "cell_type": "markdown",
   "metadata": {},
   "source": [
    "For testing let's use the 'sqft_living' feature and a constant as our features and price as our output:"
   ]
  },
  {
   "cell_type": "code",
   "execution_count": 11,
   "metadata": {
    "collapsed": false
   },
   "outputs": [
    {
     "name": "stdout",
     "output_type": "stream",
     "text": [
      "[  1.00000000e+00   1.18000000e+03]\n",
      "221900.0\n"
     ]
    }
   ],
   "source": [
    "(example_features, example_output) = get_numpy_data(sales, ['sqft_living'], 'price') # the [] around 'sqft_living' makes it a list\n",
    "print example_features[0,:] # this accesses the first row of the data the ':' indicates 'all columns'\n",
    "print example_output[0] # and the corresponding output"
   ]
  },
  {
   "cell_type": "markdown",
   "metadata": {},
   "source": [
    "# Predicting output given regression weights"
   ]
  },
  {
   "cell_type": "markdown",
   "metadata": {},
   "source": [
    "Suppose we had the weights [1.0, 1.0] and the features [1.0, 1180.0] and we wanted to compute the predicted output 1.0\\*1.0 + 1.0\\*1180.0 = 1181.0 this is the dot product between these two arrays. If they're numpy arrayws we can use np.dot() to compute this:"
   ]
  },
  {
   "cell_type": "code",
   "execution_count": 12,
   "metadata": {
    "collapsed": false
   },
   "outputs": [
    {
     "name": "stdout",
     "output_type": "stream",
     "text": [
      "1181.0\n"
     ]
    }
   ],
   "source": [
    "my_weights = np.array([1., 1.]) # the example weights\n",
    "my_features = example_features[0,] # we'll use the first data point\n",
    "predicted_value = np.dot(my_features, my_weights)\n",
    "print predicted_value"
   ]
  },
  {
   "cell_type": "markdown",
   "metadata": {},
   "source": [
    "np.dot() also works when dealing with a matrix and a vector. Recall that the predictions from all the observations is just the RIGHT (as in weights on the right) dot product between the features *matrix* and the weights *vector*. With this in mind finish the following predict_output function to compute the predictions for an entire matrix of features given the matrix and the weights:"
   ]
  },
  {
   "cell_type": "code",
   "execution_count": 13,
   "metadata": {
    "collapsed": true
   },
   "outputs": [],
   "source": [
    "def predict_output(feature_matrix, weights):\n",
    "    # assume feature_matrix is a numpy matrix containing the features as columns and weights is a corresponding numpy array\n",
    "    # create the predictions vector by using np.dot()\n",
    "    predictions = np.dot(feature_matrix, weights)\n",
    "\n",
    "    return(predictions)"
   ]
  },
  {
   "cell_type": "markdown",
   "metadata": {},
   "source": [
    "If you want to test your code run the following cell:"
   ]
  },
  {
   "cell_type": "code",
   "execution_count": 14,
   "metadata": {
    "collapsed": false
   },
   "outputs": [
    {
     "name": "stdout",
     "output_type": "stream",
     "text": [
      "1181.0\n",
      "2571.0\n"
     ]
    }
   ],
   "source": [
    "test_predictions = predict_output(example_features, my_weights)\n",
    "print test_predictions[0] # should be 1181.0\n",
    "print test_predictions[1] # should be 2571.0"
   ]
  },
  {
   "cell_type": "markdown",
   "metadata": {},
   "source": [
    "# Computing the Derivative"
   ]
  },
  {
   "cell_type": "markdown",
   "metadata": {},
   "source": [
    "We are now going to move to computing the derivative of the regression cost function. Recall that the cost function is the sum over the data points of the squared difference between an observed output and a predicted output.\n",
    "\n",
    "Since the derivative of a sum is the sum of the derivatives we can compute the derivative for a single data point and then sum over data points. We can write the squared difference between the observed output and predicted output for a single point as follows:\n",
    "\n",
    "(w[0]\\*[CONSTANT] + w[1]\\*[feature_1] + ... + w[i] \\*[feature_i] + ... +  w[k]\\*[feature_k] - output)^2\n",
    "\n",
    "Where we have k features and a constant. So the derivative with respect to weight w[i] by the chain rule is:\n",
    "\n",
    "2\\*(w[0]\\*[CONSTANT] + w[1]\\*[feature_1] + ... + w[i] \\*[feature_i] + ... +  w[k]\\*[feature_k] - output)\\* [feature_i]\n",
    "\n",
    "The term inside the paranethesis is just the error (difference between prediction and output). So we can re-write this as:\n",
    "\n",
    "2\\*error\\*[feature_i]\n",
    "\n",
    "That is, the derivative for the weight for feature i is the sum (over data points) of 2 times the product of the error and the feature itself. In the case of the constant then this is just twice the sum of the errors!\n",
    "\n",
    "Recall that twice the sum of the product of two vectors is just twice the dot product of the two vectors. Therefore the derivative for the weight for feature_i is just two times the dot product between the values of feature_i and the current errors. \n",
    "\n",
    "With this in mind complete the following derivative function which computes the derivative of the weight given the value of the feature (over all data points) and the errors (over all data points)."
   ]
  },
  {
   "cell_type": "code",
   "execution_count": 15,
   "metadata": {
    "collapsed": true
   },
   "outputs": [],
   "source": [
    "def feature_derivative(errors, feature):\n",
    "    # Assume that errors and feature are both numpy arrays of the same length (number of data points)\n",
    "    # compute twice the dot product of these vectors as 'derivative' and return the value\n",
    "    derivative = 2 * np.dot(errors, feature)\n",
    "    \n",
    "    return(derivative)"
   ]
  },
  {
   "cell_type": "markdown",
   "metadata": {},
   "source": [
    "To test your feature derivartive run the following:"
   ]
  },
  {
   "cell_type": "code",
   "execution_count": 16,
   "metadata": {
    "collapsed": false
   },
   "outputs": [
    {
     "name": "stdout",
     "output_type": "stream",
     "text": [
      "-23345850022.0\n",
      "-23345850022.0\n"
     ]
    }
   ],
   "source": [
    "(example_features, example_output) = get_numpy_data(sales, ['sqft_living'], 'price') \n",
    "my_weights = np.array([0., 0.]) # this makes all the predictions 0\n",
    "test_predictions = predict_output(example_features, my_weights) \n",
    "# just like SFrames 2 numpy arrays can be elementwise subtracted with '-': \n",
    "errors = test_predictions - example_output # prediction errors in this case is just the -example_output\n",
    "feature = example_features[:,0] # let's compute the derivative with respect to 'constant', the \":\" indicates \"all rows\"\n",
    "derivative = feature_derivative(errors, feature)\n",
    "print derivative\n",
    "print -np.sum(example_output)*2 # should be the same as derivative"
   ]
  },
  {
   "cell_type": "markdown",
   "metadata": {},
   "source": [
    "# Gradient Descent"
   ]
  },
  {
   "cell_type": "markdown",
   "metadata": {},
   "source": [
    "Now we will write a function that performs a gradient descent. The basic premise is simple. Given a starting point we update the current weights by moving in the negative gradient direction. Recall that the gradient is the direction of *increase* and therefore the negative gradient is the direction of *decrease* and we're trying to *minimize* a cost function. \n",
    "\n",
    "The amount by which we move in the negative gradient *direction*  is called the 'step size'. We stop when we are 'sufficiently close' to the optimum. We define this by requiring that the magnitude (length) of the gradient vector to be smaller than a fixed 'tolerance'.\n",
    "\n",
    "With this in mind, complete the following gradient descent function below using your derivative function above. For each step in the gradient descent we update the weight for each feature befofe computing our stopping criteria"
   ]
  },
  {
   "cell_type": "code",
   "execution_count": 17,
   "metadata": {
    "collapsed": true
   },
   "outputs": [],
   "source": [
    "from math import sqrt # recall that the magnitude/length of a vector [g[0], g[1], g[2]] is sqrt(g[0]^2 + g[1]^2 + g[2]^2)"
   ]
  },
  {
   "cell_type": "code",
   "execution_count": 63,
   "metadata": {
    "collapsed": false
   },
   "outputs": [],
   "source": [
    "def regression_gradient_descent(feature_matrix, output, initial_weights, step_size, tolerance):\n",
    "    converged = False \n",
    "    weights = np.array(initial_weights) # make sure it's a numpy array\n",
    "    while not converged:\n",
    "        # compute the predictions based on feature_matrix and weights using your predict_output() function\n",
    "        predictions = predict_output(feature_matrix, weights)\n",
    "        \n",
    "        # compute the errors as predictions - output\n",
    "        errors = predictions - output\n",
    "\n",
    "        gradient_sum_squares = 0 # initialize the gradient sum of squares\n",
    "        # while we haven't reached the tolerance yet, update each feature's weight\n",
    "        \n",
    "        for i in range(len(weights)): # loop over each weight\n",
    "            # Recall that feature_matrix[:, i] is the feature column associated with weights[i]\n",
    "            # compute the derivative for weight[i]:\n",
    "            derivative = feature_derivative(errors, feature_matrix[:, i])\n",
    "\n",
    "            # add the squared value of the derivative to the gradient sum of squares (for assessing convergence)\n",
    "            gradient_sum_squares += derivative**2\n",
    "\n",
    "            # subtract the step size times the derivative from the current weight\n",
    "            weights[i] = weights[i] - (step_size * derivative)\n",
    "            \n",
    "        # compute the square-root of the gradient sum of squares to get the gradient matnigude:\n",
    "        print(gradient_sum_squares)\n",
    "        gradient_magnitude = sqrt(gradient_sum_squares)\n",
    "        if gradient_magnitude < tolerance:\n",
    "            converged = True\n",
    "    return(weights)"
   ]
  },
  {
   "cell_type": "markdown",
   "metadata": {},
   "source": [
    "A few things to note before we run the gradient descent. Since the gradient is a sum over all the data points and involves a product of an error and a feature the gradient itself will be very large since the features are large (squarefeet) and the output is large (prices). So while you might expect \"tolerance\" to be small, small is only relative to the size of the features. \n",
    "\n",
    "For similar reasons the step size will be much smaller than you might expect but this is because the gradient has such large values."
   ]
  },
  {
   "cell_type": "markdown",
   "metadata": {},
   "source": [
    "# Running the Gradient Descent as Simple Regression"
   ]
  },
  {
   "cell_type": "markdown",
   "metadata": {},
   "source": [
    "First let's split the data into training and test data."
   ]
  },
  {
   "cell_type": "code",
   "execution_count": 89,
   "metadata": {
    "collapsed": true
   },
   "outputs": [],
   "source": [
    "train_data,test_data = sales.random_split(.8,seed=0)"
   ]
  },
  {
   "cell_type": "markdown",
   "metadata": {},
   "source": [
    "Although the gradient descent is designed for multiple regression since the constant is now a feature we can use the gradient descent function to estimat the parameters in the simple regression on squarefeet. The folowing cell sets up the feature_matrix, output, initial weights and step size for the first model:"
   ]
  },
  {
   "cell_type": "code",
   "execution_count": 90,
   "metadata": {
    "collapsed": false
   },
   "outputs": [],
   "source": [
    "# let's test out the gradient descent\n",
    "simple_features = ['sqft_living']\n",
    "my_output = 'price'\n",
    "(simple_feature_matrix, output) = get_numpy_data(train_data, simple_features, my_output)\n",
    "initial_weights = np.array([-47000., 1.])\n",
    "step_size = 7e-12\n",
    "tolerance = 2.5e7"
   ]
  },
  {
   "cell_type": "markdown",
   "metadata": {},
   "source": [
    "Next run your gradient descent with the above parameters."
   ]
  },
  {
   "cell_type": "code",
   "execution_count": 91,
   "metadata": {
    "collapsed": false
   },
   "outputs": [
    {
     "name": "stdout",
     "output_type": "stream",
     "text": [
      "2.55545726363e+27\n",
      "1.72329970376e+26\n",
      "1.16212542907e+25\n",
      "7.83691606251e+23\n",
      "5.28490744932e+22\n",
      "3.56393337992e+21\n",
      "2.40337627074e+20\n",
      "1.62074231451e+19\n",
      "1.09296517593e+18\n",
      "7.37056754265e+16\n",
      "4.97083018927e+15\n",
      "3.35623013759e+14\n"
     ]
    }
   ],
   "source": [
    "simple_weights = regression_gradient_descent(simple_feature_matrix, output, initial_weights, step_size, tolerance)"
   ]
  },
  {
   "cell_type": "markdown",
   "metadata": {},
   "source": [
    "How do your weights compare to those achieved in week 1 (don't expect them to be exactly the same)? \n",
    "\n",
    "**Quiz Question: What is the value of the weight for sqft_living -- the second element of ‘simple_weights’ (rounded to 1 decimal place)?**"
   ]
  },
  {
   "cell_type": "code",
   "execution_count": 106,
   "metadata": {
    "collapsed": false
   },
   "outputs": [
    {
     "name": "stdout",
     "output_type": "stream",
     "text": [
      "The weight for sqft_living is: 281.9\n"
     ]
    }
   ],
   "source": [
    "print('The weight for sqft_living is: {:.1f}'.format(simple_weights[1]))"
   ]
  },
  {
   "cell_type": "markdown",
   "metadata": {},
   "source": [
    "Use your newly estimated weights and your predict_output() function to compute the predictions on all the TEST data (you will need to create a numpy array of the test feature_matrix and test output first:"
   ]
  },
  {
   "cell_type": "code",
   "execution_count": 92,
   "metadata": {
    "collapsed": false
   },
   "outputs": [],
   "source": [
    "(test_simple_feature_matrix, test_output) = get_numpy_data(test_data, simple_features, my_output)"
   ]
  },
  {
   "cell_type": "markdown",
   "metadata": {},
   "source": [
    "Now compute your predictions using test_simple_feature_matrix and your weights from above."
   ]
  },
  {
   "cell_type": "code",
   "execution_count": 93,
   "metadata": {
    "collapsed": true
   },
   "outputs": [],
   "source": [
    "test_simple_feature_predictions = predict_output(test_simple_feature_matrix, simple_weights)"
   ]
  },
  {
   "cell_type": "markdown",
   "metadata": {},
   "source": [
    "**Quiz Question: What is the predicted price for the 1st house in the TEST data set for model 1 (round to nearest dollar)?**"
   ]
  },
  {
   "cell_type": "code",
   "execution_count": 94,
   "metadata": {
    "collapsed": false
   },
   "outputs": [
    {
     "name": "stdout",
     "output_type": "stream",
     "text": [
      "The predicted prices for the 1st house (element 0) in the Test data set is: $356,134.00\n"
     ]
    }
   ],
   "source": [
    "print('The predicted prices for the 1st house (element 0) in the Test data set is: ${:,.0f}.00'.format(\n",
    "        test_simple_feature_predictions[0]))"
   ]
  },
  {
   "cell_type": "markdown",
   "metadata": {},
   "source": [
    "Now that you have the predictions on test data, compute the RSS on the test data set. Save this value for comparison later. Recall that RSS is the sum of the squared errors (difference between prediction and output)."
   ]
  },
  {
   "cell_type": "code",
   "execution_count": 96,
   "metadata": {
    "collapsed": false
   },
   "outputs": [
    {
     "name": "stdout",
     "output_type": "stream",
     "text": [
      "The RSS for the 1st model is: 2.75400047593e+14\n"
     ]
    }
   ],
   "source": [
    "RSS1 = np.sum((test_simple_feature_predictions - test_output)**2)\n",
    "print('The RSS for the 1st model is: {}'.format(RSS1))"
   ]
  },
  {
   "cell_type": "markdown",
   "metadata": {},
   "source": [
    "# Running a multiple regression"
   ]
  },
  {
   "cell_type": "markdown",
   "metadata": {},
   "source": [
    "Now we will use more than one actual feature. Use the following code to produce the weights for a second model with the following parameters:"
   ]
  },
  {
   "cell_type": "code",
   "execution_count": 97,
   "metadata": {
    "collapsed": false
   },
   "outputs": [],
   "source": [
    "model_features = ['sqft_living', 'sqft_living15'] # sqft_living15 is the average squarefeet for the nearest 15 neighbors. \n",
    "my_output = 'price'\n",
    "(feature_matrix, output) = get_numpy_data(train_data, model_features, my_output)\n",
    "initial_weights = np.array([-100000., 1., 1.])\n",
    "step_size = 4e-12\n",
    "tolerance = 1e9"
   ]
  },
  {
   "cell_type": "markdown",
   "metadata": {},
   "source": [
    "Use the above parameters to estimate the model weights. Record these values for your quiz."
   ]
  },
  {
   "cell_type": "code",
   "execution_count": 98,
   "metadata": {
    "collapsed": false
   },
   "outputs": [
    {
     "name": "stdout",
     "output_type": "stream",
     "text": [
      "5.33952018709e+27\n",
      "5.14074948933e+26\n",
      "4.98548201306e+25\n",
      "5.17873035957e+24\n",
      "8.63011468529e+23\n",
      "4.30739436344e+23\n",
      "3.7285110788e+23\n",
      "3.51742421858e+23\n",
      "3.34900541992e+23\n",
      "3.19163617015e+23\n",
      "3.04194917108e+23\n",
      "2.89931011704e+23\n",
      "2.76336216554e+23\n",
      "2.63378903664e+23\n",
      "2.51029157309e+23\n",
      "2.39258486557e+23\n",
      "2.28039738527e+23\n",
      "2.1734703373e+23\n",
      "2.07155706178e+23\n",
      "1.97442246466e+23\n",
      "1.88184247533e+23\n",
      "1.79360352982e+23\n",
      "1.70950207807e+23\n",
      "1.62934411442e+23\n",
      "1.55294473009e+23\n",
      "1.48012768657e+23\n",
      "1.41072500914e+23\n",
      "1.34457659935e+23\n",
      "1.28152986572e+23\n",
      "1.2214393717e+23\n",
      "1.16416650026e+23\n",
      "1.10957913403e+23\n",
      "1.05755135061e+23\n",
      "1.00796313203e+23\n",
      "9.60700087934e+22\n",
      "9.15653191701e+22\n",
      "8.72718528917e+22\n",
      "8.31797057683e+22\n",
      "7.92794380141e+22\n",
      "7.55620524716e+22\n",
      "7.20189738568e+22\n",
      "6.86420289778e+22\n",
      "6.54234278812e+22\n",
      "6.23557458814e+22\n",
      "5.9431906434e+22\n",
      "5.66451648112e+22\n",
      "5.39890925433e+22\n",
      "5.14575625893e+22\n",
      "4.90447352028e+22\n",
      "4.67450444615e+22\n",
      "4.45531854269e+22\n",
      "4.24641019076e+22\n",
      "4.04729747949e+22\n",
      "3.85752109467e+22\n",
      "3.67664325918e+22\n",
      "3.50424672309e+22\n",
      "3.3399338012e+22\n",
      "3.18332545563e+22\n",
      "3.03406042144e+22\n",
      "2.89179437329e+22\n",
      "2.75619913114e+22\n",
      "2.62696190319e+22\n",
      "2.50378456435e+22\n",
      "2.3863829685e+22\n",
      "2.27448629304e+22\n",
      "2.16783641416e+22\n",
      "2.06618731136e+22\n",
      "1.96930449998e+22\n",
      "1.87696449026e+22\n",
      "1.78895427179e+22\n",
      "1.70507082216e+22\n",
      "1.62512063858e+22\n",
      "1.54891929157e+22\n",
      "1.47629099949e+22\n",
      "1.407068223e+22\n",
      "1.34109127866e+22\n",
      "1.27820797051e+22\n",
      "1.21827323903e+22\n",
      "1.16114882646e+22\n",
      "1.10670295792e+22\n",
      "1.0548100374e+22\n",
      "1.00535035806e+22\n",
      "9.58209826041e+21\n",
      "9.13279697334e+21\n",
      "8.70456326888e+21\n",
      "8.29640929532e+21\n",
      "7.90739352101e+21\n",
      "7.53661856236e+21\n",
      "7.18322911382e+21\n",
      "6.84640997481e+21\n",
      "6.52538416921e+21\n",
      "6.21941115307e+21\n",
      "5.92778510628e+21\n",
      "5.64983330437e+21\n",
      "5.38491456672e+21\n",
      "5.13241777743e+21\n",
      "4.89176047563e+21\n",
      "4.66238751182e+21\n",
      "4.44376976728e+21\n",
      "4.23540293349e+21\n",
      "4.03680634876e+21\n",
      "3.8475218895e+21\n",
      "3.66711291333e+21\n",
      "3.49516325191e+21\n",
      "3.3312762509e+21\n",
      "3.17507385492e+21\n",
      "3.02619573548e+21\n",
      "2.88429845979e+21\n",
      "2.74905469848e+21\n",
      "2.62015247056e+21\n",
      "2.49729442371e+21\n",
      "2.38019714836e+21\n",
      "2.26859052392e+21\n",
      "2.16221709565e+21\n",
      "2.06083148081e+21\n",
      "1.96419980252e+21\n",
      "1.87209915035e+21\n",
      "1.78431706603e+21\n",
      "1.70065105341e+21\n",
      "1.62090811131e+21\n",
      "1.5449042883e+21\n",
      "1.47246425837e+21\n",
      "1.40342091649e+21\n",
      "1.33761499314e+21\n",
      "1.27489468686e+21\n",
      "1.21511531415e+21\n",
      "1.15813897563e+21\n",
      "1.103834238e+21\n",
      "1.05207583081e+21\n",
      "1.00274435751e+21\n",
      "9.55726020002e+20\n",
      "9.10912356145e+20\n",
      "8.68199989551e+20\n",
      "8.27490391116e+20\n",
      "7.8868965173e+20\n",
      "7.5170826565e+20\n",
      "7.16460924026e+20\n",
      "6.8286631811e+20\n",
      "6.50846951695e+20\n",
      "6.20328962343e+20\n",
      "5.91241951e+20\n",
      "5.63518819601e+20\n",
      "5.37095616284e+20\n",
      "5.11911387871e+20\n",
      "4.87908039253e+20\n",
      "4.65030199385e+20\n",
      "4.43225093549e+20\n",
      "4.22442421615e+20\n",
      "4.02634242009e+20\n",
      "3.83754861124e+20\n",
      "3.65760727905e+20\n",
      "3.48610333395e+20\n",
      "3.32264114977e+20\n",
      "3.1668436511e+20\n",
      "3.01835144349e+20\n",
      "2.87682198434e+20\n",
      "2.74192879279e+20\n",
      "2.61336069653e+20\n",
      "2.49082111402e+20\n",
      "2.37402737033e+20\n",
      "2.26271004506e+20\n",
      "2.15661235082e+20\n",
      "2.05548954093e+20\n",
      "1.95910834476e+20\n",
      "1.86724642969e+20\n",
      "1.77969188817e+20\n",
      "1.69624274895e+20\n",
      "1.61670651112e+20\n",
      "1.54089970009e+20\n",
      "1.46864744432e+20\n",
      "1.39978307194e+20\n",
      "1.33414772626e+20\n",
      "1.27158999934e+20\n",
      "1.21196558268e+20\n",
      "1.15513693438e+20\n",
      "1.10097296183e+20\n",
      "1.0493487193e+20\n",
      "1.00014511972e+20\n",
      "9.5324865997e+19\n",
      "9.08551159071e+19\n",
      "8.65949508593e+19\n",
      "8.25345434833e+19\n",
      "7.86645272107e+19\n",
      "7.49759746682e+19\n",
      "7.1460377084e+19\n",
      "6.81096246596e+19\n",
      "6.49159878623e+19\n",
      "6.18720995944e+19\n",
      "5.89709381991e+19\n",
      "5.62058112623e+19\n",
      "5.35703401753e+19\n",
      "5.10584454197e+19\n",
      "4.86643325441e+19\n",
      "4.63824787967e+19\n",
      "4.42076203855e+19\n",
      "4.21347403362e+19\n",
      "4.01590569184e+19\n",
      "3.82760126156e+19\n",
      "3.64812636116e+19\n",
      "3.47706697702e+19\n",
      "3.31402850849e+19\n",
      "3.15863485759e+19\n",
      "3.01052756146e+19\n",
      "2.86936496544e+19\n",
      "2.73482143492e+19\n",
      "2.60658660421e+19\n",
      "2.48436466054e+19\n",
      "2.36787366172e+19\n",
      "2.2568448857e+19\n",
      "2.15102221076e+19\n",
      "2.05016152459e+19\n",
      "1.95403016126e+19\n",
      "1.86240636445e+19\n",
      "1.77507877591e+19\n",
      "1.69184594792e+19\n",
      "1.61251587856e+19\n",
      "1.53690556884e+19\n",
      "1.46484060049e+19\n",
      "1.39615473369e+19\n",
      "1.33068952353e+19\n",
      "1.26829395453e+19\n",
      "1.20882409226e+19\n",
      "1.15214275135e+19\n",
      "1.098119179e+19\n",
      "1.04662875334e+19\n",
      "9.97552696015e+18\n",
      "9.5077779811e+18\n",
      "9.06196159058e+18\n",
      "8.63704937706e+18\n",
      "8.23206115088e+18\n",
      "7.84606268313e+18\n",
      "7.4781635506e+18\n",
      "7.12751508167e+18\n",
      "6.79330839868e+18\n",
      "6.47477255194e+18\n",
      "6.17117274135e+18\n",
      "5.8818086213e+18\n",
      "5.60601268518e+18\n",
      "5.34314872552e+18\n",
      "5.09261036638e+18\n",
      "4.85381966462e+18\n",
      "4.62622577661e+18\n",
      "4.40930368762e+18\n",
      "4.20255300067e+18\n",
      "4.00549678223e+18\n",
      "3.81768046199e+18\n",
      "3.63867078432e+18\n",
      "3.46805480879e+18\n",
      "3.30543895758e+18\n",
      "3.15044810762e+18\n",
      "3.00272472524e+18\n",
      "2.86192804137e+18\n",
      "2.72773326552e+18\n",
      "2.59983083649e+18\n",
      "2.4779257083e+18\n",
      "2.36173666959e+18\n",
      "2.25099569488e+18\n",
      "2.14544732634e+18\n",
      "2.04484808444e+18\n",
      "1.94896590635e+18\n",
      "1.85757961056e+18\n",
      "1.7704783867e+18\n",
      "1.68746130924e+18\n",
      "1.60833687394e+18\n",
      "1.53292255616e+18\n",
      "1.46104438977e+18\n",
      "1.39253656584e+18\n",
      "1.32724105018e+18\n",
      "1.26500721876e+18\n",
      "1.20569151026e+18\n",
      "1.1491570949e+18\n",
      "1.09527355881e+18\n",
      "1.04391660316e+18\n",
      "9.94967757479e+17\n"
     ]
    }
   ],
   "source": [
    "two_feature_weights = regression_gradient_descent(feature_matrix, output, initial_weights, step_size, tolerance)"
   ]
  },
  {
   "cell_type": "markdown",
   "metadata": {},
   "source": [
    "Use your newly estimated weights and the predict_output function to compute the predictions on the TEST data. Don't forget to create a numpy array for these features from the test set first!"
   ]
  },
  {
   "cell_type": "code",
   "execution_count": 99,
   "metadata": {
    "collapsed": false
   },
   "outputs": [],
   "source": [
    "(test_two_feature_matrix, test_output) = get_numpy_data(test_data, model_features, my_output)\n",
    "test_two_feature_predictions = predict_output(test_two_feature_matrix, two_feature_weights)"
   ]
  },
  {
   "cell_type": "markdown",
   "metadata": {},
   "source": [
    "**Quiz Question: What is the predicted price for the 1st house in the TEST data set for model 2 (round to nearest dollar)?**"
   ]
  },
  {
   "cell_type": "code",
   "execution_count": 100,
   "metadata": {
    "collapsed": false
   },
   "outputs": [
    {
     "name": "stdout",
     "output_type": "stream",
     "text": [
      "The predicted prices for the 1st house (element 0) in the Test data set is: $366,651.00\n"
     ]
    }
   ],
   "source": [
    "print('The predicted prices for the 1st house (element 0) in the Test data set is: ${:,.0f}.00'.format(\n",
    "        test_two_feature_predictions[0]))"
   ]
  },
  {
   "cell_type": "markdown",
   "metadata": {},
   "source": [
    "What is the actual price for the 1st house in the test data set?"
   ]
  },
  {
   "cell_type": "code",
   "execution_count": 101,
   "metadata": {
    "collapsed": false
   },
   "outputs": [
    {
     "name": "stdout",
     "output_type": "stream",
     "text": [
      "The actual price for the 1st house (element 0) in the Test data set is: $310,000.00\n"
     ]
    }
   ],
   "source": [
    "print('The actual price for the 1st house (element 0) in the Test data set is: ${:,.0f}.00'.format(\n",
    "        test_data[0]['price']))"
   ]
  },
  {
   "cell_type": "markdown",
   "metadata": {},
   "source": [
    "**Quiz Question: Which estimate was closer to the true price for the 1st house on the Test data set, model 1 or model 2?**\n",
    "\n",
    "Answer: The first model's estimate was closer to the true price"
   ]
  },
  {
   "cell_type": "markdown",
   "metadata": {},
   "source": [
    "Now use your predictions and the output to compute the RSS for model 2 on TEST data."
   ]
  },
  {
   "cell_type": "code",
   "execution_count": 102,
   "metadata": {
    "collapsed": false
   },
   "outputs": [
    {
     "name": "stdout",
     "output_type": "stream",
     "text": [
      "The RSS for the 2nd model is: 2.70263446465e+14\n"
     ]
    }
   ],
   "source": [
    "RSS2 = np.sum((test_two_feature_predictions - test_output)**2)\n",
    "print('The RSS for the 2nd model is: {}'.format(RSS2))"
   ]
  },
  {
   "cell_type": "markdown",
   "metadata": {},
   "source": [
    "**Quiz Question: Which model (1 or 2) has lowest RSS on all of the TEST data? **"
   ]
  },
  {
   "cell_type": "code",
   "execution_count": 103,
   "metadata": {
    "collapsed": false
   },
   "outputs": [
    {
     "name": "stdout",
     "output_type": "stream",
     "text": [
      "The RSS for the 2nd model of 2.70263446465e+14 is less than that of 1st model at 2.75400047593e+14\n"
     ]
    }
   ],
   "source": [
    "if RSS1 < RSS2:\n",
    "    print('The RSS for the 1st model of {} is less than that of 2nd model at {}'.format(RSS1, RSS2))\n",
    "else:\n",
    "    print('The RSS for the 2nd model of {} is less than that of 1st model at {}'.format(RSS2, RSS1))"
   ]
  }
 ],
 "metadata": {
  "kernelspec": {
   "display_name": "Python 2",
   "language": "python",
   "name": "python2"
  },
  "language_info": {
   "codemirror_mode": {
    "name": "ipython",
    "version": 2
   },
   "file_extension": ".py",
   "mimetype": "text/x-python",
   "name": "python",
   "nbconvert_exporter": "python",
   "pygments_lexer": "ipython2",
   "version": "2.7.11"
  }
 },
 "nbformat": 4,
 "nbformat_minor": 0
}
